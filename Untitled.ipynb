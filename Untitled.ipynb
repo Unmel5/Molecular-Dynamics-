{
 "cells": [
  {
   "cell_type": "code",
   "execution_count": 7,
   "id": "87c64872-3ff6-4c65-886f-fe0086b7ac45",
   "metadata": {},
   "outputs": [
    {
     "name": "stdout",
     "output_type": "stream",
     "text": [
      "\u001b[33mWARNING: Skipping /opt/homebrew/lib/python3.11/site-packages/certifi-2024.2.2.dist-info due to invalid metadata entry 'name'\u001b[0m\u001b[33m\n",
      "\u001b[0m\u001b[33mDEPRECATION: Loading egg at /opt/homebrew/lib/python3.11/site-packages/matplotlib-3.4.3-py3.11-macosx-14-arm64.egg is deprecated. pip 24.3 will enforce this behaviour change. A possible replacement is to use pip for package installation.. Discussion can be found at https://github.com/pypa/pip/issues/12330\u001b[0m\u001b[33m\n",
      "\u001b[0m\u001b[31mERROR: Could not find a version that satisfies the requirement matploblib (from versions: none)\u001b[0m\u001b[31m\n",
      "\u001b[0m\u001b[31mERROR: No matching distribution found for matploblib\u001b[0m\u001b[31m\n",
      "\u001b[0mNote: you may need to restart the kernel to use updated packages.\n"
     ]
    }
   ],
   "source": [
    "pip install matploblib"
   ]
  },
  {
   "cell_type": "code",
   "execution_count": null,
   "id": "819a93eb-7d6d-4428-96ac-bfecf6818e5e",
   "metadata": {},
   "outputs": [],
   "source": [
    "import numpy as np \n",
    "import matplotlib.pyplot as plt \n",
    "\n",
    "# Parameters for the simulation\n",
    "dx = 0.01  # Spatial step size\n",
    "D_high = 1.0  # Diffusion coefficient inside the crystal\n",
    "D_low = 1.0  # Diffusion coefficient outside the crystal\n",
    "K = 3  # Concentration inside the crystal\n",
    "R = 0.1  # Rate of crystal radius growth\n",
    "system_size = 1.0  # Total size of the system\n"
   ]
  },
  {
   "cell_type": "code",
   "execution_count": null,
   "id": "1f8958f2-24a7-4320-863a-ea36ef06dab6",
   "metadata": {},
   "outputs": [],
   "source": [
    "dt = dx**2 / (2 * max(D_high, D_low) * 5)\n",
    "num_points = int(system_size / dx)  # Number of spatial points\n",
    "initial_crystal_radius = 0.2  # Initial radius of the crystal\n",
    "\n",
    "# Initial concentration setup\n",
    "concentration = np.ones(num_points) * K  # Start with concentration K inside the crystal\n",
    "# Set concentration outside the initial crystal to 1\n",
    "for i in range(num_points):\n",
    "    if i * dx >= initial_crystal_radius:\n",
    "        concentration[i] = 1\n",
    "\n",
    "simulation_time = 0.1  # Total simulation time\n",
    "num_steps = int(simulation_time / dt)  # Number of time steps\n",
    "\n"
   ]
  },
  {
   "cell_type": "code",
   "execution_count": null,
   "id": "2285bbe0-67b2-4123-8f80-c6a26e2f36ff",
   "metadata": {},
   "outputs": [],
   "source": [
    "crystal_radius = initial_crystal_radius  # Initialize crystal radius\n",
    "for step in range(num_steps):\n",
    "    new_concentration = concentration.copy()\n",
    "\n",
    "    # Update concentration based on diffusion outside the crystal\n",
    "    for i in range(1, num_points - 1):\n",
    "        if i * dx > crystal_radius:  # Only diffuse outside the crystal\n",
    "            new_concentration[i] = concentration[i] + (\n",
    "                D_low * dt / dx**2 *\n",
    "                (concentration[i+1] - 2 * concentration[i] + concentration[i-1])\n",
    "            )\n"
   ]
  },
  {
   "cell_type": "code",
   "execution_count": null,
   "id": "772740b2-f6fc-48fe-9d2a-ebebccebc5e7",
   "metadata": {},
   "outputs": [],
   "source": [
    "    new_concentration[0] = new_concentration[1]\n",
    "    new_concentration[-1] = new_concentration[-2]\n",
    "\n",
    "    # Update the concentration profile for the next iteration\n",
    "    concentration = new_concentration.copy()\n",
    "\n",
    "    # Update the crystal radius\n",
    "    crystal_radius += R * dt\n",
    "    crystal_radius = min(crystal_radius, system_size)\n",
    "\n",
    "    # Maintain constant concentration inside the growing crystal\n",
    "    for i in range(num_points):\n",
    "        if i * dx < crystal_radius:\n",
    "            concentration[i] = K\n"
   ]
  },
  {
   "cell_type": "code",
   "execution_count": null,
   "id": "bc7b0368-b72e-48d1-bfde-21f9c2ebe627",
   "metadata": {},
   "outputs": [],
   "source": [
    "plt.figure(figsize=(10, 6))\n",
    "plt.plot(np.linspace(0, system_size, num_points), concentration, label='Concentration Profile')\n",
    "plt.axvline(x=crystal_radius, color='red', linestyle='--', label='Crystal boundary')\n",
    "plt.title('Concentration Profile After Crystal Growth')\n",
    "plt.xlabel('Distance')\n",
    "plt.ylabel('Concentration')\n",
    "plt.legend()\n",
    "plt.grid(True)\n",
    "plt.show()\n"
   ]
  }
 ],
 "metadata": {
  "kernelspec": {
   "display_name": "Python 3 (ipykernel)",
   "language": "python",
   "name": "python3"
  },
  "language_info": {
   "codemirror_mode": {
    "name": "ipython",
    "version": 3
   },
   "file_extension": ".py",
   "mimetype": "text/x-python",
   "name": "python",
   "nbconvert_exporter": "python",
   "pygments_lexer": "ipython3",
   "version": "3.11.6"
  }
 },
 "nbformat": 4,
 "nbformat_minor": 5
}
